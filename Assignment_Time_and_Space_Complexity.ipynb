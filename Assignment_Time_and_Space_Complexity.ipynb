{
  "nbformat": 4,
  "nbformat_minor": 0,
  "metadata": {
    "colab": {
      "provenance": [],
      "include_colab_link": true
    },
    "kernelspec": {
      "name": "python3",
      "display_name": "Python 3"
    }
  },
  "cells": [
    {
      "cell_type": "markdown",
      "metadata": {
        "id": "view-in-github",
        "colab_type": "text"
      },
      "source": [
        "<a href=\"https://colab.research.google.com/github/dil150898/Daily_assignment/blob/main/Assignment_Time_and_Space_Complexity.ipynb\" target=\"_parent\"><img src=\"https://colab.research.google.com/assets/colab-badge.svg\" alt=\"Open In Colab\"/></a>"
      ]
    },
    {
      "cell_type": "markdown",
      "metadata": {
        "id": "2jnw9mA7ZmdB"
      },
      "source": [
        "## <u>While doing this assignment only use those concepts which have been taught till now</u>"
      ]
    },
    {
      "cell_type": "markdown",
      "metadata": {
        "id": "OUYGTTD6Q2i_"
      },
      "source": [
        "# Problem 1\n",
        "\n",
        "Write a Python function which takes a string as an input and returns the reversed string as an output.\n",
        "\n",
        "\n",
        "*   Do not use any inbuilt funtion or method. Use `for` loops only.\n",
        "*   Also, do the time and space complexity analysis.\n",
        "\n"
      ]
    },
    {
      "cell_type": "code",
      "metadata": {
        "id": "jef509dzQxBU",
        "outputId": "32ac1d4c-e3b2-4fdf-c790-4dbc313a4a7c",
        "colab": {
          "base_uri": "https://localhost:8080/"
        }
      },
      "source": [
        "# Write your code here\n",
        "\n",
        "user_input = input()\n",
        "\n",
        "reversed_output = \"\"\n",
        "for i in range(len(user_input)-1 ,-1 ,-1) :\n",
        "  reversed_output += user_input[i]\n",
        "print(reversed_output)\n",
        "\n",
        "\n",
        "# Time Complexity :O(1) ?\n",
        "# Space Complexity :O(n) ?\n",
        "# Auxiliary Space :O(n)?"
      ],
      "execution_count": null,
      "outputs": [
        {
          "output_type": "stream",
          "name": "stdout",
          "text": [
            "Almabetter\n",
            "rettebamlA\n"
          ]
        }
      ]
    },
    {
      "cell_type": "code",
      "source": [],
      "metadata": {
        "id": "weYO5f66zkY7"
      },
      "execution_count": null,
      "outputs": []
    },
    {
      "cell_type": "markdown",
      "metadata": {
        "id": "wfeWSBcTgO6y"
      },
      "source": [
        "# Problem 2\n",
        "\n",
        "Write a Python function which takes a list of `n` lists as an input. Each of the `n` lists have `m` non-zero positive integers each. The function should return a list which contains `n` integers corresponding to the square of the maximum of each of the `n` lists in the list of lists.\n",
        "\n",
        "Example:\n",
        "Inputs\n",
        "```\n",
        "n = 2\n",
        "m = 3\n",
        "list_of_lists = [[1, 2, 3], [5, 7, 6]]\n",
        "```\n",
        "Output:\n",
        "```\n",
        "[9, 49]\n",
        "```\n",
        "\n",
        "*   Do not use any inbuilt funtion or method. Use `for` loops only.\n",
        "*   Also, do the time and space complexity analysis.\n"
      ]
    },
    {
      "cell_type": "code",
      "metadata": {
        "id": "x2rY4yMChDPM",
        "outputId": "c3485d5d-555e-4db8-ec81-2d21c162019f",
        "colab": {
          "base_uri": "https://localhost:8080/"
        }
      },
      "source": [
        "# Write your code here\n",
        "\n",
        "n = int(input())\n",
        "m = int(input())\n",
        "list_of_list = []\n",
        "\n",
        "\n",
        "for i in range(n) :\n",
        "  inner_list = []\n",
        "  for j in range(m):\n",
        "    inner_list.append(0)\n",
        "  list_of_list.append(inner_list)\n",
        "print(list_of_list)\n",
        "\n",
        "\n",
        "\n",
        "# Time Complexity :O(log n) ?\n",
        "# Space Complexity :O(n^2) ?\n",
        "# Auxiliary Space : O(n^2)?"
      ],
      "execution_count": null,
      "outputs": [
        {
          "output_type": "stream",
          "name": "stdout",
          "text": [
            "2\n",
            "3\n",
            "[[0, 0, 0], [0, 0, 0]]\n",
            "[[0, 0, 0], [0, 0, 0], [0, 0, 0], [0, 0, 0]]\n",
            "[[0, 0, 0], [0, 0, 0], [0, 0, 0], [0, 0, 0], [0, 0, 0], [0, 0, 0]]\n",
            "[[0, 0, 0], [0, 0, 0], [0, 0, 0], [0, 0, 0], [0, 0, 0], [0, 0, 0], [0, 0, 0], [0, 0, 0]]\n",
            "[[0, 0, 0], [0, 0, 0], [0, 0, 0], [0, 0, 0], [0, 0, 0], [0, 0, 0], [0, 0, 0], [0, 0, 0], [0, 0, 0], [0, 0, 0]]\n"
          ]
        }
      ]
    },
    {
      "cell_type": "code",
      "source": [],
      "metadata": {
        "id": "1G7EScARqqcB",
        "outputId": "39ed582e-2f33-43ef-ee56-ec8c61b910c3",
        "colab": {
          "base_uri": "https://localhost:8080/"
        }
      },
      "execution_count": null,
      "outputs": [
        {
          "output_type": "stream",
          "name": "stdout",
          "text": [
            "[[0, 0, 0, 0], [0, 0, 0, 0], [0, 0, 0, 0]]\n"
          ]
        }
      ]
    },
    {
      "cell_type": "code",
      "source": [],
      "metadata": {
        "id": "Q8rUwK1lqv-y"
      },
      "execution_count": null,
      "outputs": []
    }
  ]
}